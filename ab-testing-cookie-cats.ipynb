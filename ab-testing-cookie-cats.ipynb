{
 "cells": [
  {
   "cell_type": "markdown",
   "id": "31ad0177-cadf-4a9e-ad15-1045cadc98aa",
   "metadata": {},
   "source": [
    "# AB Testing Mobile Game "
   ]
  },
  {
   "cell_type": "markdown",
   "id": "4cd12765-790f-49a1-b9cf-af02c3aff720",
   "metadata": {},
   "source": [
    "<p>This project is based on a mini project from <a href=\"https://www.datacamp.com/projects/184\">Datacamp</a>.</p>\n",
    "<p><a href=\"https://www.facebook.com/cookiecatsgame\">Cookie Cats</a> is a hugely popular mobile puzzle game developed by <a href=\"http://tactile.dk\">Tactile Entertainment</a>. It's a classic \"connect three\"-style puzzle game where the player must connect tiles of the same color to clear the board and win the level. It also features singing cats. Check out this short demo:</p>\n",
    "<p><a href=\"https://youtu.be/GaP5f0jVTWE\"><img src=\"https://s3.amazonaws.com/assets.datacamp.com/production/project_184/img/cookie_cats_video.jpeg\" style=\"width: 500px\"></a></p>\n",
    "<p>As players progress through the levels of the game, they will <strong>occasionally encounter gates that force them to wait a non-trivial amount of time or make an in-app purchase to progress</strong>. In addition to driving in-app purchases, these gates serve the important purpose of giving players an enforced break from playing the game, hopefully resulting in that the player's enjoyment of the game being increased and prolonged.<p>But where should the gates be placed? Initially the first gate was placed at level 30. <strong>In this project, we're going to analyze an AB-test where we moved the first gate in Cookie Cats from level 30 to level 40. In particular, we will look at the impact on player retention.</strong> </p>\n",
    "<p><img src=\"https://s3.amazonaws.com/assets.datacamp.com/production/project_184/img/cc_gates.png\" alt=\"\"></p>"
   ]
  },
  {
   "cell_type": "markdown",
   "id": "f630073d-a441-4d73-bc9a-484638310165",
   "metadata": {},
   "source": [
    "<p>The data is from 90,189 players that installed the game while the AB-test was running. The variables are:</p>\n",
    "<ul>\n",
    "<li><code>userid</code> - a unique number that identifies each player.</li>\n",
    "<li><code>version</code> - whether the player was put in the control group (<code>gate_30</code> - a gate at level 30) or the test group (<code>gate_40</code> - a gate at level 40).</li>\n",
    "<li><code>sum_gamerounds</code> - the number of game rounds played by the player during the first week after installation\n",
    "<li><code>retention_1</code> - did the player come back and play 1 day after installing?</li>\n",
    "<li><code>retention_7</code> - did the player come back and play 7 days after installing?</li>\n",
    "</ul>\n",
    "<p>When a player installed the game, he or she was randomly assigned to either <code>gate_30</code> or <code>gate_40</code>. </p>\n",
    "\n",
    "### AB Testing Process\n",
    "\n",
    "1. Understanding business problem & data\n",
    "2. Detect and resolve problems in the data (Missing Value, Outliers, Unexpected Value)\n",
    "3. Look summary stats and plots\n",
    "4. Apply hypothesis testing and check assumptions\n",
    "    - Check Normality & Homogeneity\n",
    "    - Apply tests (Shapiro, Levene Test, T-Test, Welch Test, Mann Whitney U Test)\n",
    "5. Evaluate the results\n",
    "6. Make inferences \n",
    "7. Recommend business decision to your customer/director/ceo etc. "
   ]
  },
  {
   "cell_type": "markdown",
   "id": "c26ad1db-94b9-4106-ba67-33dd6d5a521c",
   "metadata": {},
   "source": [
    "## <font color=\"darkcyan\">Libraries and Packages</font>"
   ]
  },
  {
   "cell_type": "code",
   "execution_count": 1,
   "id": "4852df58-4c77-4a9b-a078-eb4b021e577a",
   "metadata": {},
   "outputs": [],
   "source": [
    "# Data Visualization\n",
    "import matplotlib.pyplot as plt\n",
    "import seaborn as sns\n",
    "import pandas as pd \n",
    "import numpy as np\n",
    "\n",
    "# Hypothesis Testing\n",
    "from scipy.stats import shapiro\n",
    "import scipy.stats as stats\n",
    "\n",
    "# Configuration\n",
    "import warnings\n",
    "pd.options.display.float_format = '{:.4f}'.format\n",
    "pd.set_option('display.max_columns', None)\n",
    "# Plotting setup\n",
    "sns.set(style=\"darkgrid\",color_codes=True)\n",
    "warnings.filterwarnings('ignore')\n",
    "%matplotlib inline"
   ]
  },
  {
   "cell_type": "markdown",
   "id": "e6ae4b0e-def0-4aa2-8674-b2406a728785",
   "metadata": {},
   "source": [
    "## <font color=\"darkcyan\">Loading the data</font>"
   ]
  },
  {
   "cell_type": "code",
   "execution_count": 2,
   "id": "220b2329-6473-4b22-9751-a13964fa817b",
   "metadata": {},
   "outputs": [
    {
     "data": {
      "text/html": [
       "<div>\n",
       "<style scoped>\n",
       "    .dataframe tbody tr th:only-of-type {\n",
       "        vertical-align: middle;\n",
       "    }\n",
       "\n",
       "    .dataframe tbody tr th {\n",
       "        vertical-align: top;\n",
       "    }\n",
       "\n",
       "    .dataframe thead th {\n",
       "        text-align: right;\n",
       "    }\n",
       "</style>\n",
       "<table border=\"1\" class=\"dataframe\">\n",
       "  <thead>\n",
       "    <tr style=\"text-align: right;\">\n",
       "      <th></th>\n",
       "      <th>userid</th>\n",
       "      <th>version</th>\n",
       "      <th>sum_gamerounds</th>\n",
       "      <th>retention_1</th>\n",
       "      <th>retention_7</th>\n",
       "    </tr>\n",
       "  </thead>\n",
       "  <tbody>\n",
       "    <tr>\n",
       "      <th>0</th>\n",
       "      <td>116</td>\n",
       "      <td>gate_30</td>\n",
       "      <td>3</td>\n",
       "      <td>False</td>\n",
       "      <td>False</td>\n",
       "    </tr>\n",
       "    <tr>\n",
       "      <th>1</th>\n",
       "      <td>337</td>\n",
       "      <td>gate_30</td>\n",
       "      <td>38</td>\n",
       "      <td>True</td>\n",
       "      <td>False</td>\n",
       "    </tr>\n",
       "    <tr>\n",
       "      <th>2</th>\n",
       "      <td>377</td>\n",
       "      <td>gate_40</td>\n",
       "      <td>165</td>\n",
       "      <td>True</td>\n",
       "      <td>False</td>\n",
       "    </tr>\n",
       "    <tr>\n",
       "      <th>3</th>\n",
       "      <td>483</td>\n",
       "      <td>gate_40</td>\n",
       "      <td>1</td>\n",
       "      <td>False</td>\n",
       "      <td>False</td>\n",
       "    </tr>\n",
       "    <tr>\n",
       "      <th>4</th>\n",
       "      <td>488</td>\n",
       "      <td>gate_40</td>\n",
       "      <td>179</td>\n",
       "      <td>True</td>\n",
       "      <td>True</td>\n",
       "    </tr>\n",
       "  </tbody>\n",
       "</table>\n",
       "</div>"
      ],
      "text/plain": [
       "   userid  version  sum_gamerounds  retention_1  retention_7\n",
       "0     116  gate_30               3        False        False\n",
       "1     337  gate_30              38         True        False\n",
       "2     377  gate_40             165         True        False\n",
       "3     483  gate_40               1        False        False\n",
       "4     488  gate_40             179         True         True"
      ]
     },
     "execution_count": 2,
     "metadata": {},
     "output_type": "execute_result"
    }
   ],
   "source": [
    "# load dataset\n",
    "df = pd.read_csv(\"cookie_cats.csv\")    \n",
    "df.head()"
   ]
  },
  {
   "cell_type": "code",
   "execution_count": 3,
   "id": "80574bdf-2065-4bd9-a3a7-40e255247c9d",
   "metadata": {},
   "outputs": [
    {
     "data": {
      "text/plain": [
       "(90189, 5)"
      ]
     },
     "execution_count": 3,
     "metadata": {},
     "output_type": "execute_result"
    }
   ],
   "source": [
    "# Check shape of data\n",
    "df.shape"
   ]
  },
  {
   "cell_type": "code",
   "execution_count": 4,
   "id": "89d2a5d5-09aa-4f25-8100-b82c9938db13",
   "metadata": {},
   "outputs": [
    {
     "name": "stdout",
     "output_type": "stream",
     "text": [
      "(90189,)\n"
     ]
    }
   ],
   "source": [
    "# Check unique user_id's in dataset\n",
    "print(df.userid.unique().shape)"
   ]
  },
  {
   "cell_type": "code",
   "execution_count": 5,
   "id": "5c8d4e71-a89c-44cb-9ac9-2f944463e9fc",
   "metadata": {},
   "outputs": [
    {
     "data": {
      "text/plain": [
       "userid            0\n",
       "version           0\n",
       "sum_gamerounds    0\n",
       "retention_1       0\n",
       "retention_7       0\n",
       "dtype: int64"
      ]
     },
     "execution_count": 5,
     "metadata": {},
     "output_type": "execute_result"
    }
   ],
   "source": [
    "# Check is there any null value  \n",
    "df.isnull().sum()"
   ]
  },
  {
   "cell_type": "code",
   "execution_count": 6,
   "id": "9c4602e7-49f3-4ab5-bb58-5baf28088005",
   "metadata": {},
   "outputs": [
    {
     "data": {
      "text/html": [
       "<div>\n",
       "<style scoped>\n",
       "    .dataframe tbody tr th:only-of-type {\n",
       "        vertical-align: middle;\n",
       "    }\n",
       "\n",
       "    .dataframe tbody tr th {\n",
       "        vertical-align: top;\n",
       "    }\n",
       "\n",
       "    .dataframe thead th {\n",
       "        text-align: right;\n",
       "    }\n",
       "</style>\n",
       "<table border=\"1\" class=\"dataframe\">\n",
       "  <thead>\n",
       "    <tr style=\"text-align: right;\">\n",
       "      <th></th>\n",
       "      <th>count</th>\n",
       "      <th>median</th>\n",
       "      <th>std</th>\n",
       "      <th>mean</th>\n",
       "      <th>max</th>\n",
       "    </tr>\n",
       "    <tr>\n",
       "      <th>version</th>\n",
       "      <th></th>\n",
       "      <th></th>\n",
       "      <th></th>\n",
       "      <th></th>\n",
       "      <th></th>\n",
       "    </tr>\n",
       "  </thead>\n",
       "  <tbody>\n",
       "    <tr>\n",
       "      <th>gate_30</th>\n",
       "      <td>44700</td>\n",
       "      <td>17</td>\n",
       "      <td>256.7164</td>\n",
       "      <td>52.4563</td>\n",
       "      <td>49854</td>\n",
       "    </tr>\n",
       "    <tr>\n",
       "      <th>gate_40</th>\n",
       "      <td>45489</td>\n",
       "      <td>16</td>\n",
       "      <td>103.2944</td>\n",
       "      <td>51.2988</td>\n",
       "      <td>2640</td>\n",
       "    </tr>\n",
       "  </tbody>\n",
       "</table>\n",
       "</div>"
      ],
      "text/plain": [
       "         count  median      std    mean    max\n",
       "version                                       \n",
       "gate_30  44700      17 256.7164 52.4563  49854\n",
       "gate_40  45489      16 103.2944 51.2988   2640"
      ]
     },
     "execution_count": 6,
     "metadata": {},
     "output_type": "execute_result"
    }
   ],
   "source": [
    "df.groupby('version').sum_gamerounds.agg(['count','median','std','mean','max'])"
   ]
  },
  {
   "cell_type": "markdown",
   "id": "279f6469-3763-4e6c-8b88-e37207afcecc",
   "metadata": {},
   "source": [
    "## <font color=\"darkcyan\">Detect and Delete Outliers</font>"
   ]
  },
  {
   "cell_type": "code",
   "execution_count": 7,
   "id": "09fa406a-8e45-4c35-bf5e-dae7a6074465",
   "metadata": {},
   "outputs": [
    {
     "data": {
      "text/plain": [
       "<AxesSubplot:xlabel='version', ylabel='sum_gamerounds'>"
      ]
     },
     "execution_count": 7,
     "metadata": {},
     "output_type": "execute_result"
    },
    {
     "data": {
      "image/png": "[encoded data removed]",
      "text/plain": [
       "<Figure size 1152x576 with 1 Axes>"
      ]
     },
     "metadata": {
      "needs_background": "light"
     },
     "output_type": "display_data"
    }
   ],
   "source": [
    "plt.rcParams['figure.figsize'] = (16, 8)\n",
    "\n",
    "sns.boxplot(x = df.version, y = df.sum_gamerounds)"
   ]
  },
  {
   "cell_type": "code",
   "execution_count": 8,
   "id": "c50e52f7-abdf-44d7-8fb7-e2f6cbb92061",
   "metadata": {},
   "outputs": [],
   "source": [
    "df = df[df['sum_gamerounds'] < 4800]"
   ]
  },
  {
   "cell_type": "markdown",
   "id": "89e13e8f-1f82-48ed-b7ae-fbdeb2fb31a0",
   "metadata": {},
   "source": [
    "## <font color=\"darkcyan\">Look summary stats and plots</font>"
   ]
  },
  {
   "cell_type": "code",
   "execution_count": 9,
   "id": "abb519c6-bcd3-4083-9356-f97b8f9edc97",
   "metadata": {},
   "outputs": [
    {
     "data": {
      "text/plain": [
       "Text(0.5, 1.0, 'Distribution of Two Groups')"
      ]
     },
     "execution_count": 9,
     "metadata": {},
     "output_type": "execute_result"
    },
    {
     "data": {
      "image/png": "[encoded data removed]",
      "text/plain": [
       "<Figure size 1296x432 with 3 Axes>"
      ]
     },
     "metadata": {
      "needs_background": "light"
     },
     "output_type": "display_data"
    }
   ],
   "source": [
    "fig, axes = plt.subplots(1, 3, figsize = (18,6))\n",
    "\n",
    "\n",
    "df[(df.version == \"gate_30\")].hist(\"sum_gamerounds\", ax = axes[0], color = \"steelblue\")\n",
    "df[(df.version == \"gate_40\")].hist(\"sum_gamerounds\", ax = axes[1], color = \"red\")\n",
    "sns.boxplot(x = df.version, y = df.sum_gamerounds)\n",
    "\n",
    "axes[0].set_title(\"Distribution of Gate 30 (A)\", fontsize = 15)\n",
    "axes[1].set_title(\"Distribution of Gate 40 (B)\", fontsize = 15)\n",
    "axes[2].set_title(\"Distribution of Two Groups\", fontsize = 15)"
   ]
  },
  {
   "cell_type": "markdown",
   "id": "89d12f24-b0d4-487c-ae94-482b8728f441",
   "metadata": {},
   "source": [
    "<a id='details'></a>\n",
    "<h1 style=\"color:DarkSlateBlue\" >SOME DETAILS</h1>\n",
    "\n",
    "**The users installed the game but 3994 users never played the game!** Some reasons might explain this situation.\n",
    "\n",
    "- They have no free time to play game\n",
    "- Users might prefer to play other games or they play other games already\n",
    "- Some users don't like the app etc.\n",
    "- You can comment below for this users also\n",
    "- The gmae might have some issuse in some phones \n",
    "\n",
    "**The number of users decreases as the levels progress**\n",
    "\n",
    "- Most of users played the game at early stage and they didn't progress.\n",
    "- Tactile Entertainment should learn why users churn playing the game.\n",
    "- Doing research and collecting data about the game and users would help to understand user churn\n",
    "- The difficulty of the game can be measured\n",
    "- Gifts might help player retention"
   ]
  },
  {
   "cell_type": "code",
   "execution_count": 10,
   "id": "1a185fba-bc66-4c55-8ce5-d046089562f2",
   "metadata": {},
   "outputs": [
    {
     "data": {
      "image/png": "[encoded data removed]",
      "text/plain": [
       "<Figure size 2160x1440 with 2 Axes>"
      ]
     },
     "metadata": {
      "needs_background": "light"
     },
     "output_type": "display_data"
    }
   ],
   "source": [
    "fig, axes = plt.subplots(2, 1, figsize = (30,20))\n",
    "df.groupby(\"sum_gamerounds\").userid.count().plot(ax = axes[0])\n",
    "df.groupby(\"sum_gamerounds\").userid.count()[:200].plot(ax = axes[1])\n",
    "plt.suptitle(\"The number of users in the game rounds played\", fontsize = 40)\n",
    "axes[0].set_title(\"How many users are there all game rounds?\", fontsize = 25)\n",
    "axes[1].set_title(\"How many users are there first 200 game rounds?\", fontsize = 25)\n",
    "plt.tight_layout(pad=5);"
   ]
  },
  {
   "cell_type": "code",
   "execution_count": 11,
   "id": "2960c98c-839b-48e0-b4bb-7ac71afce162",
   "metadata": {},
   "outputs": [
    {
     "data": {
      "text/plain": [
       "sum_gamerounds\n",
       "30    642\n",
       "40    505\n",
       "Name: userid, dtype: int64"
      ]
     },
     "execution_count": 11,
     "metadata": {},
     "output_type": "execute_result"
    }
   ],
   "source": [
    "df.groupby(\"sum_gamerounds\").userid.count().loc[[30,40]]"
   ]
  },
  {
   "cell_type": "code",
   "execution_count": 12,
   "id": "ac7c5d06-132f-42bf-8551-a85351f4b7a8",
   "metadata": {},
   "outputs": [
    {
     "data": {
      "text/html": [
       "<div>\n",
       "<style scoped>\n",
       "    .dataframe tbody tr th:only-of-type {\n",
       "        vertical-align: middle;\n",
       "    }\n",
       "\n",
       "    .dataframe tbody tr th {\n",
       "        vertical-align: top;\n",
       "    }\n",
       "\n",
       "    .dataframe thead th {\n",
       "        text-align: right;\n",
       "    }\n",
       "</style>\n",
       "<table border=\"1\" class=\"dataframe\">\n",
       "  <thead>\n",
       "    <tr style=\"text-align: right;\">\n",
       "      <th></th>\n",
       "      <th>count</th>\n",
       "      <th>median</th>\n",
       "      <th>mean</th>\n",
       "      <th>std</th>\n",
       "      <th>max</th>\n",
       "    </tr>\n",
       "    <tr>\n",
       "      <th>version</th>\n",
       "      <th></th>\n",
       "      <th></th>\n",
       "      <th></th>\n",
       "      <th></th>\n",
       "      <th></th>\n",
       "    </tr>\n",
       "  </thead>\n",
       "  <tbody>\n",
       "    <tr>\n",
       "      <th>gate_30</th>\n",
       "      <td>44699</td>\n",
       "      <td>17</td>\n",
       "      <td>51.3421</td>\n",
       "      <td>102.0576</td>\n",
       "      <td>2961</td>\n",
       "    </tr>\n",
       "    <tr>\n",
       "      <th>gate_40</th>\n",
       "      <td>45489</td>\n",
       "      <td>16</td>\n",
       "      <td>51.2988</td>\n",
       "      <td>103.2944</td>\n",
       "      <td>2640</td>\n",
       "    </tr>\n",
       "  </tbody>\n",
       "</table>\n",
       "</div>"
      ],
      "text/plain": [
       "         count  median    mean      std   max\n",
       "version                                      \n",
       "gate_30  44699      17 51.3421 102.0576  2961\n",
       "gate_40  45489      16 51.2988 103.2944  2640"
      ]
     },
     "execution_count": 12,
     "metadata": {},
     "output_type": "execute_result"
    }
   ],
   "source": [
    "df.groupby(\"version\").sum_gamerounds.agg([\"count\", \"median\", \"mean\", \"std\", \"max\"])"
   ]
  },
  {
   "cell_type": "markdown",
   "id": "f3a34a89-bc6a-4d85-95fc-0dd416d84dba",
   "metadata": {},
   "source": [
    "**Retention variables gives us player retention details.**\n",
    "\n",
    "<li><code>retention_1</code> - did the player come back and play 1 day after installing?</li>\n",
    "<li><code>retention_7</code> - did the player come back and play 7 days after installing?</li>\n",
    "\n",
    "Also players tend not to play the game! There are many players who quit the game.\n",
    "\n",
    "- 55 percent of the players didn't play the game 1 day after insalling\n",
    "- 81 percent of the players didn't play the game 7 day after insalling"
   ]
  },
  {
   "cell_type": "code",
   "execution_count": 13,
   "id": "1bebed07-7c8f-415a-8b31-5b66fe18232b",
   "metadata": {},
   "outputs": [
    {
     "data": {
      "text/html": [
       "<div>\n",
       "<style scoped>\n",
       "    .dataframe tbody tr th:only-of-type {\n",
       "        vertical-align: middle;\n",
       "    }\n",
       "\n",
       "    .dataframe tbody tr th {\n",
       "        vertical-align: top;\n",
       "    }\n",
       "\n",
       "    .dataframe thead th {\n",
       "        text-align: right;\n",
       "    }\n",
       "</style>\n",
       "<table border=\"1\" class=\"dataframe\">\n",
       "  <thead>\n",
       "    <tr style=\"text-align: right;\">\n",
       "      <th></th>\n",
       "      <th></th>\n",
       "      <th>count</th>\n",
       "      <th>median</th>\n",
       "      <th>mean</th>\n",
       "      <th>std</th>\n",
       "      <th>max</th>\n",
       "    </tr>\n",
       "    <tr>\n",
       "      <th>version</th>\n",
       "      <th>retention_1</th>\n",
       "      <th></th>\n",
       "      <th></th>\n",
       "      <th></th>\n",
       "      <th></th>\n",
       "      <th></th>\n",
       "    </tr>\n",
       "  </thead>\n",
       "  <tbody>\n",
       "    <tr>\n",
       "      <th rowspan=\"2\" valign=\"top\">gate_30</th>\n",
       "      <th>False</th>\n",
       "      <td>24665</td>\n",
       "      <td>6</td>\n",
       "      <td>16.3591</td>\n",
       "      <td>36.5284</td>\n",
       "      <td>1072</td>\n",
       "    </tr>\n",
       "    <tr>\n",
       "      <th>True</th>\n",
       "      <td>20034</td>\n",
       "      <td>48</td>\n",
       "      <td>94.4117</td>\n",
       "      <td>135.0377</td>\n",
       "      <td>2961</td>\n",
       "    </tr>\n",
       "    <tr>\n",
       "      <th rowspan=\"2\" valign=\"top\">gate_40</th>\n",
       "      <th>False</th>\n",
       "      <td>25370</td>\n",
       "      <td>6</td>\n",
       "      <td>16.3404</td>\n",
       "      <td>35.9258</td>\n",
       "      <td>1241</td>\n",
       "    </tr>\n",
       "    <tr>\n",
       "      <th>True</th>\n",
       "      <td>20119</td>\n",
       "      <td>49</td>\n",
       "      <td>95.3812</td>\n",
       "      <td>137.8873</td>\n",
       "      <td>2640</td>\n",
       "    </tr>\n",
       "  </tbody>\n",
       "</table>\n",
       "</div>"
      ],
      "text/plain": [
       "                     count  median    mean      std   max\n",
       "version retention_1                                      \n",
       "gate_30 False        24665       6 16.3591  36.5284  1072\n",
       "        True         20034      48 94.4117 135.0377  2961\n",
       "gate_40 False        25370       6 16.3404  35.9258  1241\n",
       "        True         20119      49 95.3812 137.8873  2640"
      ]
     },
     "execution_count": 13,
     "metadata": {},
     "output_type": "execute_result"
    }
   ],
   "source": [
    "df.groupby([\"version\", \"retention_1\"]).sum_gamerounds.agg([\"count\", \"median\", \"mean\", \"std\", \"max\"])"
   ]
  },
  {
   "cell_type": "code",
   "execution_count": 14,
   "id": "cb74fa5a-3f8c-42da-bb43-4cb0d06cbfd0",
   "metadata": {},
   "outputs": [
    {
     "data": {
      "text/html": [
       "<div>\n",
       "<style scoped>\n",
       "    .dataframe tbody tr th:only-of-type {\n",
       "        vertical-align: middle;\n",
       "    }\n",
       "\n",
       "    .dataframe tbody tr th {\n",
       "        vertical-align: top;\n",
       "    }\n",
       "\n",
       "    .dataframe thead th {\n",
       "        text-align: right;\n",
       "    }\n",
       "</style>\n",
       "<table border=\"1\" class=\"dataframe\">\n",
       "  <thead>\n",
       "    <tr style=\"text-align: right;\">\n",
       "      <th></th>\n",
       "      <th></th>\n",
       "      <th>count</th>\n",
       "      <th>median</th>\n",
       "      <th>mean</th>\n",
       "      <th>std</th>\n",
       "      <th>max</th>\n",
       "    </tr>\n",
       "    <tr>\n",
       "      <th>version</th>\n",
       "      <th>retention_7</th>\n",
       "      <th></th>\n",
       "      <th></th>\n",
       "      <th></th>\n",
       "      <th></th>\n",
       "      <th></th>\n",
       "    </tr>\n",
       "  </thead>\n",
       "  <tbody>\n",
       "    <tr>\n",
       "      <th rowspan=\"2\" valign=\"top\">gate_30</th>\n",
       "      <th>False</th>\n",
       "      <td>36198</td>\n",
       "      <td>11</td>\n",
       "      <td>25.7965</td>\n",
       "      <td>43.3162</td>\n",
       "      <td>981</td>\n",
       "    </tr>\n",
       "    <tr>\n",
       "      <th>True</th>\n",
       "      <td>8501</td>\n",
       "      <td>105</td>\n",
       "      <td>160.1175</td>\n",
       "      <td>179.3586</td>\n",
       "      <td>2961</td>\n",
       "    </tr>\n",
       "    <tr>\n",
       "      <th rowspan=\"2\" valign=\"top\">gate_40</th>\n",
       "      <th>False</th>\n",
       "      <td>37210</td>\n",
       "      <td>11</td>\n",
       "      <td>25.8564</td>\n",
       "      <td>44.4061</td>\n",
       "      <td>2640</td>\n",
       "    </tr>\n",
       "    <tr>\n",
       "      <th>True</th>\n",
       "      <td>8279</td>\n",
       "      <td>111</td>\n",
       "      <td>165.6498</td>\n",
       "      <td>183.7925</td>\n",
       "      <td>2294</td>\n",
       "    </tr>\n",
       "  </tbody>\n",
       "</table>\n",
       "</div>"
      ],
      "text/plain": [
       "                     count  median     mean      std   max\n",
       "version retention_7                                       \n",
       "gate_30 False        36198      11  25.7965  43.3162   981\n",
       "        True          8501     105 160.1175 179.3586  2961\n",
       "gate_40 False        37210      11  25.8564  44.4061  2640\n",
       "        True          8279     111 165.6498 183.7925  2294"
      ]
     },
     "execution_count": 14,
     "metadata": {},
     "output_type": "execute_result"
    }
   ],
   "source": [
    "df.groupby([\"version\", \"retention_7\"]).sum_gamerounds.agg([\"count\", \"median\", \"mean\", \"std\", \"max\"])"
   ]
  },
  {
   "cell_type": "code",
   "execution_count": 15,
   "id": "31d8072d-7b8c-446e-bde6-837f012a2489",
   "metadata": {},
   "outputs": [
    {
     "data": {
      "text/html": [
       "<div>\n",
       "<style scoped>\n",
       "    .dataframe tbody tr th:only-of-type {\n",
       "        vertical-align: middle;\n",
       "    }\n",
       "\n",
       "    .dataframe tbody tr th {\n",
       "        vertical-align: top;\n",
       "    }\n",
       "\n",
       "    .dataframe thead th {\n",
       "        text-align: right;\n",
       "    }\n",
       "</style>\n",
       "<table border=\"1\" class=\"dataframe\">\n",
       "  <thead>\n",
       "    <tr style=\"text-align: right;\">\n",
       "      <th></th>\n",
       "      <th>version</th>\n",
       "      <th>NewRetention</th>\n",
       "      <th>count</th>\n",
       "      <th>median</th>\n",
       "      <th>mean</th>\n",
       "      <th>std</th>\n",
       "      <th>max</th>\n",
       "    </tr>\n",
       "  </thead>\n",
       "  <tbody>\n",
       "    <tr>\n",
       "      <th>0</th>\n",
       "      <td>gate_30</td>\n",
       "      <td>False-False</td>\n",
       "      <td>22840</td>\n",
       "      <td>6</td>\n",
       "      <td>11.8197</td>\n",
       "      <td>21.6426</td>\n",
       "      <td>981</td>\n",
       "    </tr>\n",
       "    <tr>\n",
       "      <th>1</th>\n",
       "      <td>gate_30</td>\n",
       "      <td>False-True</td>\n",
       "      <td>1825</td>\n",
       "      <td>43</td>\n",
       "      <td>73.1693</td>\n",
       "      <td>93.2223</td>\n",
       "      <td>1072</td>\n",
       "    </tr>\n",
       "    <tr>\n",
       "      <th>2</th>\n",
       "      <td>gate_30</td>\n",
       "      <td>True-False</td>\n",
       "      <td>13358</td>\n",
       "      <td>33</td>\n",
       "      <td>49.6945</td>\n",
       "      <td>58.1254</td>\n",
       "      <td>918</td>\n",
       "    </tr>\n",
       "    <tr>\n",
       "      <th>3</th>\n",
       "      <td>gate_30</td>\n",
       "      <td>True-True</td>\n",
       "      <td>6676</td>\n",
       "      <td>127</td>\n",
       "      <td>183.8863</td>\n",
       "      <td>189.6264</td>\n",
       "      <td>2961</td>\n",
       "    </tr>\n",
       "    <tr>\n",
       "      <th>4</th>\n",
       "      <td>gate_40</td>\n",
       "      <td>False-False</td>\n",
       "      <td>23597</td>\n",
       "      <td>6</td>\n",
       "      <td>11.9133</td>\n",
       "      <td>20.9010</td>\n",
       "      <td>547</td>\n",
       "    </tr>\n",
       "    <tr>\n",
       "      <th>5</th>\n",
       "      <td>gate_40</td>\n",
       "      <td>False-True</td>\n",
       "      <td>1773</td>\n",
       "      <td>47</td>\n",
       "      <td>75.2611</td>\n",
       "      <td>94.4780</td>\n",
       "      <td>1241</td>\n",
       "    </tr>\n",
       "    <tr>\n",
       "      <th>6</th>\n",
       "      <td>gate_40</td>\n",
       "      <td>True-False</td>\n",
       "      <td>13613</td>\n",
       "      <td>32</td>\n",
       "      <td>50.0255</td>\n",
       "      <td>60.9246</td>\n",
       "      <td>2640</td>\n",
       "    </tr>\n",
       "    <tr>\n",
       "      <th>7</th>\n",
       "      <td>gate_40</td>\n",
       "      <td>True-True</td>\n",
       "      <td>6506</td>\n",
       "      <td>133</td>\n",
       "      <td>190.2824</td>\n",
       "      <td>194.2201</td>\n",
       "      <td>2294</td>\n",
       "    </tr>\n",
       "  </tbody>\n",
       "</table>\n",
       "</div>"
      ],
      "text/plain": [
       "   version NewRetention  count  median     mean      std   max\n",
       "0  gate_30  False-False  22840       6  11.8197  21.6426   981\n",
       "1  gate_30   False-True   1825      43  73.1693  93.2223  1072\n",
       "2  gate_30   True-False  13358      33  49.6945  58.1254   918\n",
       "3  gate_30    True-True   6676     127 183.8863 189.6264  2961\n",
       "4  gate_40  False-False  23597       6  11.9133  20.9010   547\n",
       "5  gate_40   False-True   1773      47  75.2611  94.4780  1241\n",
       "6  gate_40   True-False  13613      32  50.0255  60.9246  2640\n",
       "7  gate_40    True-True   6506     133 190.2824 194.2201  2294"
      ]
     },
     "execution_count": 15,
     "metadata": {},
     "output_type": "execute_result"
    }
   ],
   "source": [
    "df[\"NewRetention\"] = list(map(lambda x,y: str(x)+\"-\"+str(y), df.retention_1, df.retention_7))\n",
    "df.groupby([\"version\", \"NewRetention\"]).sum_gamerounds.agg([\"count\", \"median\", \"mean\", \"std\", \"max\"]).reset_index()"
   ]
  },
  {
   "cell_type": "markdown",
   "id": "ce9cdb85-64da-45da-a579-7a879e29ecf3",
   "metadata": {},
   "source": [
    "<a id='ab'></a>\n",
    "<h1 style=\"color:DarkSlateBlue\" >A/B Testing</h1>\n",
    "\n",
    "### Assumptions:\n",
    "- Check normality\n",
    "- If Normal Distribution, check homogeneity\n",
    "\n",
    "### Steps:\n",
    "- Split & Define Control Group & Test Group\n",
    "- Apply Shapiro Test for normality\n",
    "- If parametric apply Levene Test for homogeneity of variances\n",
    "- If Parametric + homogeneity of variances apply T-Test\n",
    "- If Parametric - homogeneity of variances apply Welch Test\n",
    "- If Non-parametric apply Mann Whitney U Test directly"
   ]
  },
  {
   "cell_type": "code",
   "execution_count": 16,
   "id": "548afa95-bc9a-404b-8d8f-f53334b39038",
   "metadata": {},
   "outputs": [
    {
     "data": {
      "text/html": [
       "<div>\n",
       "<style scoped>\n",
       "    .dataframe tbody tr th:only-of-type {\n",
       "        vertical-align: middle;\n",
       "    }\n",
       "\n",
       "    .dataframe tbody tr th {\n",
       "        vertical-align: top;\n",
       "    }\n",
       "\n",
       "    .dataframe thead th {\n",
       "        text-align: right;\n",
       "    }\n",
       "</style>\n",
       "<table border=\"1\" class=\"dataframe\">\n",
       "  <thead>\n",
       "    <tr style=\"text-align: right;\">\n",
       "      <th></th>\n",
       "      <th>userid</th>\n",
       "      <th>version</th>\n",
       "      <th>sum_gamerounds</th>\n",
       "      <th>retention_1</th>\n",
       "      <th>retention_7</th>\n",
       "      <th>NewRetention</th>\n",
       "    </tr>\n",
       "  </thead>\n",
       "  <tbody>\n",
       "    <tr>\n",
       "      <th>0</th>\n",
       "      <td>116</td>\n",
       "      <td>A</td>\n",
       "      <td>3</td>\n",
       "      <td>False</td>\n",
       "      <td>False</td>\n",
       "      <td>False-False</td>\n",
       "    </tr>\n",
       "    <tr>\n",
       "      <th>1</th>\n",
       "      <td>337</td>\n",
       "      <td>A</td>\n",
       "      <td>38</td>\n",
       "      <td>True</td>\n",
       "      <td>False</td>\n",
       "      <td>True-False</td>\n",
       "    </tr>\n",
       "    <tr>\n",
       "      <th>2</th>\n",
       "      <td>377</td>\n",
       "      <td>B</td>\n",
       "      <td>165</td>\n",
       "      <td>True</td>\n",
       "      <td>False</td>\n",
       "      <td>True-False</td>\n",
       "    </tr>\n",
       "    <tr>\n",
       "      <th>3</th>\n",
       "      <td>483</td>\n",
       "      <td>B</td>\n",
       "      <td>1</td>\n",
       "      <td>False</td>\n",
       "      <td>False</td>\n",
       "      <td>False-False</td>\n",
       "    </tr>\n",
       "    <tr>\n",
       "      <th>4</th>\n",
       "      <td>488</td>\n",
       "      <td>B</td>\n",
       "      <td>179</td>\n",
       "      <td>True</td>\n",
       "      <td>True</td>\n",
       "      <td>True-True</td>\n",
       "    </tr>\n",
       "  </tbody>\n",
       "</table>\n",
       "</div>"
      ],
      "text/plain": [
       "   userid version  sum_gamerounds  retention_1  retention_7 NewRetention\n",
       "0     116       A               3        False        False  False-False\n",
       "1     337       A              38         True        False   True-False\n",
       "2     377       B             165         True        False   True-False\n",
       "3     483       B               1        False        False  False-False\n",
       "4     488       B             179         True         True    True-True"
      ]
     },
     "execution_count": 16,
     "metadata": {},
     "output_type": "execute_result"
    }
   ],
   "source": [
    "# Define A/B groups\n",
    "df[\"version\"] = np.where(df.version == \"gate_30\", \"A\", \"B\")\n",
    "df.head()"
   ]
  },
  {
   "cell_type": "code",
   "execution_count": 17,
   "id": "afe74d41-c187-4e92-867b-a77cc497dd93",
   "metadata": {},
   "outputs": [
    {
     "name": "stdout",
     "output_type": "stream",
     "text": [
      "# A/B Testing Hypothesis\n",
      "H0: A == B\n",
      "H1: A != B \n",
      "\n"
     ]
    },
    {
     "data": {
      "text/html": [
       "<div>\n",
       "<style scoped>\n",
       "    .dataframe tbody tr th:only-of-type {\n",
       "        vertical-align: middle;\n",
       "    }\n",
       "\n",
       "    .dataframe tbody tr th {\n",
       "        vertical-align: top;\n",
       "    }\n",
       "\n",
       "    .dataframe thead th {\n",
       "        text-align: right;\n",
       "    }\n",
       "</style>\n",
       "<table border=\"1\" class=\"dataframe\">\n",
       "  <thead>\n",
       "    <tr style=\"text-align: right;\">\n",
       "      <th></th>\n",
       "      <th>Test Type</th>\n",
       "      <th>AB Hypothesis</th>\n",
       "      <th>p-value</th>\n",
       "      <th>Comment</th>\n",
       "    </tr>\n",
       "  </thead>\n",
       "  <tbody>\n",
       "    <tr>\n",
       "      <th>0</th>\n",
       "      <td>Non-Parametric</td>\n",
       "      <td>Fail to Reject H0</td>\n",
       "      <td>0.0509</td>\n",
       "      <td>A/B groups are similar!</td>\n",
       "    </tr>\n",
       "  </tbody>\n",
       "</table>\n",
       "</div>"
      ],
      "text/plain": [
       "        Test Type      AB Hypothesis  p-value                  Comment\n",
       "0  Non-Parametric  Fail to Reject H0   0.0509  A/B groups are similar!"
      ]
     },
     "execution_count": 17,
     "metadata": {},
     "output_type": "execute_result"
    }
   ],
   "source": [
    "# A/B Testing Function - Quick Solution\n",
    "def AB_Test(dataframe, group, target):\n",
    "    \n",
    "    # Split A/B\n",
    "    groupA = dataframe[dataframe[group] == \"A\"][target]\n",
    "    groupB = dataframe[dataframe[group] == \"B\"][target]\n",
    "    \n",
    "    # Assumption: Normality\n",
    "    ntA = shapiro(groupA)[1] < 0.05\n",
    "    ntB = shapiro(groupB)[1] < 0.05\n",
    "    # H0: Distribution is Normal! - False\n",
    "    # H1: Distribution is not Normal! - True\n",
    "    \n",
    "    \n",
    "    # \"If H0: Normal Distribution\"\n",
    "    if (ntA == False) & (ntB == False): \n",
    "        # Parametric Test\n",
    "        # Assumption: Homogeneity of variances\n",
    "        leveneTest = stats.levene(groupA, groupB)[1] < 0.05\n",
    "        # H0: Homogeneity: False\n",
    "        # H1: Heterogeneous: True\n",
    "        \n",
    "        # \"If H0: Homogeneity of variances\"\n",
    "        if leveneTest == False:\n",
    "            # Homogeneity\n",
    "            ttest = stats.ttest_ind(groupA, groupB, equal_var=True)[1]\n",
    "            # H0: M1 == M2 - False\n",
    "            # H1: M1 != M2 - True\n",
    "        else:\n",
    "            # Heterogeneous\n",
    "            ttest = stats.ttest_ind(groupA, groupB, equal_var=False)[1]\n",
    "            # H0: M1 == M2 - False\n",
    "            # H1: M1 != M2 - True\n",
    "    else:\n",
    "        # Non-Parametric Test\n",
    "        ttest = stats.mannwhitneyu(groupA, groupB)[1] \n",
    "        # H0: M1 == M2 - False\n",
    "        # H1: M1 != M2 - True\n",
    "        \n",
    "    # Put Result into a Dataframe\n",
    "    temp = pd.DataFrame({\n",
    "        \"AB Hypothesis\":[ttest < 0.05], \n",
    "        \"p-value\":[ttest]\n",
    "    })\n",
    "\n",
    "    temp[\"Test Type\"] = np.where((ntA == False) & (ntB == False), \"Parametric\", \"Non-Parametric\")\n",
    "    temp[\"AB Hypothesis\"] = np.where(temp[\"AB Hypothesis\"] == False, \"Fail to Reject H0\", \"Reject H0\")\n",
    "    temp[\"Comment\"] = np.where(temp[\"AB Hypothesis\"] == \"Fail to Reject H0\", \"A/B groups are similar!\", \"A/B groups are not similar!\")\n",
    "    \n",
    "    if (ntA == False) & (ntB == False):\n",
    "        temp[\"Homogeneity\"] = np.where(leveneTest == False, \"Yes\", \"No\")\n",
    "        temp = temp[[\"Test Type\", \"Homogeneity\",\"AB Hypothesis\", \"p-value\", \"Comment\"]]\n",
    "    else:\n",
    "        temp = temp[[\"Test Type\",\"AB Hypothesis\", \"p-value\", \"Comment\"]]\n",
    "    \n",
    "    # Print Hypothesis\n",
    "    print(\"# A/B Testing Hypothesis\")\n",
    "    print(\"H0: A == B\")\n",
    "    print(\"H1: A != B\", \"\\n\")\n",
    "    \n",
    "    return temp\n",
    "    \n",
    "    \n",
    "    \n",
    "# Apply A/B Testing\n",
    "AB_Test(dataframe=df, group = \"version\", target = \"sum_gamerounds\")"
   ]
  },
  {
   "cell_type": "markdown",
   "id": "f32fbca6-7bc6-4929-b11d-fe47994b330d",
   "metadata": {},
   "source": [
    "<a id='conclusion'></a>\n",
    "<h1 style=\"color:DarkSlateBlue\" >7. Conclusion</h1>\n",
    "\n",
    "### Remember business problem!\n",
    "\n",
    "**As players progress through the game they will encounter gates that force them to wait some time before they can progress or make an in-app purchase. In this project, we will analyze the result of an A/B test where the first gate in Cookie Cats was moved from level 30 to level 40. In particular, we will analyze the impact on player retention and game rounds.**\n",
    "\n",
    "Firstly, we investigated relationships and structures in the data. There was no missing value problem but was one outlier problem in the data. Summary stats and plots help us to understand the data and problem.\n",
    "\n",
    "Before A/B Testing, we shared some details about game, players, problems and suggestion to our customer/director/ceo etc.\n",
    "\n",
    "After applying A/B Testing, the analysis result gives us some important information. Shapiro Testing rejected H0 for Normality assumption. Therefore we needed to apply a Non-parametric test as called Mann Whitney U to compare two groups. As a result, Mann Whitney U Testing rejected H0 hypothesis and we learned A/B groups are not similar!\n",
    "\n",
    "Briefly, There are statistically significant difference between two groups about moving first gate from level 30 to level 40 for game rounds. \n",
    "\n",
    "### Which level has more advantages in terms of player retention?\n",
    "\n",
    "1-day and 7-day average retention are higher when the gate is at level 30 than when it is at level 40."
   ]
  }
 ],
 "metadata": {
  "kernelspec": {
   "display_name": "tf25",
   "language": "python",
   "name": "tf25"
  },
  "language_info": {
   "codemirror_mode": {
    "name": "ipython",
    "version": 3
   },
   "file_extension": ".py",
   "mimetype": "text/x-python",
   "name": "python",
   "nbconvert_exporter": "python",
   "pygments_lexer": "ipython3",
   "version": "3.8.10"
  }
 },
 "nbformat": 4,
 "nbformat_minor": 5
}
